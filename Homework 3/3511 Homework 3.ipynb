{
 "cells": [
  {
   "cell_type": "code",
   "execution_count": 1,
   "metadata": {},
   "outputs": [
    {
     "name": "stdout",
     "output_type": "stream",
     "text": [
      "Homework 3\n"
     ]
    }
   ],
   "source": [
    "print(\"Homework 3\")\n",
    "import numpy as np\n",
    "import matplotlib.pyplot as plt\n",
    "from scipy import integrate\n",
    "import math"
   ]
  },
  {
   "cell_type": "markdown",
   "metadata": {},
   "source": [
    "# Homework 3"
   ]
  },
  {
   "cell_type": "code",
   "execution_count": 2,
   "metadata": {},
   "outputs": [],
   "source": [
    "\n",
    "d = .15 #this is diameter in m\n",
    "p = 7800 #this is density in kg/m^3\n",
    "vi = 300 #initial velocity in m/s\n",
    "theta = 0.873 #this is 50 degree above horizon\n",
    "gamma = 0.25\n",
    "lamda = 10000\n",
    "g = 9.8"
   ]
  },
  {
   "cell_type": "code",
   "execution_count": 3,
   "metadata": {},
   "outputs": [],
   "source": [
    "def c(y):\n",
    "    return gamma * (d**2) * np.exp(-y/lamda)"
   ]
  },
  {
   "cell_type": "code",
   "execution_count": 4,
   "metadata": {},
   "outputs": [
    {
     "name": "stdout",
     "output_type": "stream",
     "text": [
      "229.87799228636098\n",
      "192.75919864533512\n"
     ]
    }
   ],
   "source": [
    "vxi = vi*math.cos(theta)\n",
    "vyi = vi*math.sin(theta)\n",
    "print(vyi)\n",
    "print(vxi)\n",
    "\n",
    "posi = np.array([0.0,0.0])\n",
    "ti= 0.0\n",
    "tf=55\n",
    "t = np.linspace(ti,tf,100)\n",
    "#0 and 3.5 showed me small part tf = 55 showed me whole parabola\n",
    "xi = 0.0\n",
    "yi = 0.0\n",
    "\n",
    "\n",
    "def land(t,y):\n",
    "    return y [1]\n",
    "land.terminal = True"
   ]
  },
  {
   "cell_type": "markdown",
   "metadata": {},
   "source": [
    "# #Part A"
   ]
  },
  {
   "cell_type": "code",
   "execution_count": 5,
   "metadata": {},
   "outputs": [],
   "source": [
    "def ynoair(t,y):\n",
    "    dx = y[2]\n",
    "    dy = y[3]\n",
    "    dvx = 0.0\n",
    "    dvy= -g\n",
    "    return np.array((dx,dy,dvx,dvy))\n",
    "ri = [xi,yi,vxi,vyi]\n",
    "\n",
    "ysol_RK45 = integrate.solve_ivp(ynoair,(ti,tf),ri, method='RK45', t_eval = t )  \n"
   ]
  },
  {
   "cell_type": "code",
   "execution_count": 6,
   "metadata": {},
   "outputs": [
    {
     "name": "stdout",
     "output_type": "stream",
     "text": [
      "[False  True  True  True  True  True  True  True  True  True  True  True\n",
      "  True  True  True  True  True  True  True  True  True  True  True  True\n",
      "  True  True  True  True  True  True  True  True  True  True  True  True\n",
      "  True  True  True  True  True  True  True  True  True  True  True  True\n",
      "  True  True  True  True  True  True  True  True  True  True  True  True\n",
      "  True  True  True  True  True  True  True  True  True  True  True  True\n",
      "  True  True  True  True  True  True  True  True  True  True  True  True\n",
      "  True False False False False False False False False False False False\n",
      " False False False False]\n",
      "the range is 8995.429270115643 m\n"
     ]
    },
    {
     "data": {
      "image/png": "[encoded data removed]",
      "text/plain": [
       "<Figure size 432x288 with 1 Axes>"
      ]
     },
     "metadata": {
      "needs_background": "light"
     },
     "output_type": "display_data"
    }
   ],
   "source": [
    "xt= ysol_RK45.y[0]\n",
    "yt = ysol_RK45.y[1]\n",
    "fig = plt.figure(\"Scipy)\")\n",
    "ax = fig.add_axes([0.2,0.2,0.7,0.7])\n",
    "ax.plot(xt,yt,'g', label=r'$Scipy (RK45)$')\n",
    "ax.set_xlabel('x (m)')\n",
    "ax.set_ylabel('y (m)')\n",
    "plt.axhline(y=0, color='b', linestyle='-')\n",
    "above = yt> 0\n",
    "print(above)\n",
    "#lands at 84 seconds about\n",
    "print('the range is',xt[84], 'm')"
   ]
  },
  {
   "cell_type": "markdown",
   "metadata": {},
   "source": [
    "# Part B"
   ]
  },
  {
   "cell_type": "code",
   "execution_count": 7,
   "metadata": {},
   "outputs": [],
   "source": [
    "#ri = [xi,yi,vxi,vyi]\n",
    "#def run4(f,t,yi):\n",
    " #   n = len(t)\n",
    "  #  y = np.zeros((n,len(yi)))\n",
    "    #y[0]=y0\n",
    "#    for i in range (0,n-1):\n",
    "#       dt = t[i+1-t[i]]\n",
    "#        k1 = f(t[i],y[i])\n",
    "#       k2 = f(t[i] + dt/2, y[i] + dt/2 * k1)\n",
    "#        k3 = f(t[i] + dt/2, y[i] + dt/2 * k2)\n",
    "#        k4 = f(t[i] + dt/2, y[i] + dt*k3)\n",
    "#        y[i+1] = y[i] + (dt/6) *(k1 +2*k2 + 2*k3 +k4)\n",
    "#        return y\n",
    "#fullrun4 = run4(ynoair,t,ri)"
   ]
  },
  {
   "cell_type": "code",
   "execution_count": 8,
   "metadata": {},
   "outputs": [],
   "source": [
    "def run4(f,t,yi):\n",
    "    n = len(t)\n",
    "    y = np.zeros((n,len(yi)))\n",
    "    y[0]=yi\n",
    "    for i in range (0,n-1):\n",
    "        dt = t[i+1]-t[i]\n",
    "        k1 = f(t[i],y[i])\n",
    "        k2 = f(t[i] + dt/2, y[i] + dt/2 * k1)\n",
    "        k3 = f(t[i] + dt/2, y[i] + dt/2 * k2)\n",
    "        k4 = f(t[i] + dt/2, y[i] + dt*k3)\n",
    "        y[i+1] = y[i] + (dt/6) *(k1 +2*k2 + 2*k3 +k4)\n",
    "    return y\n"
   ]
  },
  {
   "cell_type": "code",
   "execution_count": 9,
   "metadata": {},
   "outputs": [
    {
     "name": "stdout",
     "output_type": "stream",
     "text": [
      "[False  True  True  True  True  True  True  True  True  True  True  True\n",
      "  True  True  True  True  True  True  True  True  True  True  True  True\n",
      "  True  True  True  True  True  True  True  True  True  True  True  True\n",
      "  True  True  True  True  True  True  True  True  True  True  True  True\n",
      "  True  True  True  True  True  True  True  True  True  True  True  True\n",
      "  True  True  True  True  True  True  True  True  True  True  True  True\n",
      "  True  True  True  True  True  True  True  True  True  True  True  True\n",
      "  True False False False False False False False False False False False\n",
      " False False False False]\n",
      "the range is 8995.429270115634 m\n"
     ]
    },
    {
     "data": {
      "image/png": "[encoded data removed]",
      "text/plain": [
       "<Figure size 432x288 with 1 Axes>"
      ]
     },
     "metadata": {
      "needs_background": "light"
     },
     "output_type": "display_data"
    }
   ],
   "source": [
    "realrun4 = run4(ynoair,t,ri)\n",
    "#print(realrun4)\n",
    "fig = plt.figure\n",
    "plt.ylabel('y direction')\n",
    "plt.xlabel('x direction')\n",
    "plt.plot(realrun4[:,0],realrun4[:,1],'r', label = \"using long way\")\n",
    "plt.plot(xt,yt,'g--', label='shortcut numpy')\n",
    "plt.axhline(y=0, color='b', linestyle='-')\n",
    "plt.legend(loc=\"best\")\n",
    "#print(\"same line so same range and time\")\n",
    "above = realrun4[:,1]> 0\n",
    "print(above)\n",
    "#lands at 84 seconds about\n",
    "print('the range is',realrun4[:,0][84], 'm')"
   ]
  },
  {
   "cell_type": "markdown",
   "metadata": {},
   "source": [
    "# Part C"
   ]
  },
  {
   "cell_type": "markdown",
   "metadata": {},
   "source": [
    "$c(y) = \\gamma D^2$"
   ]
  },
  {
   "cell_type": "code",
   "execution_count": 10,
   "metadata": {},
   "outputs": [
    {
     "name": "stdout",
     "output_type": "stream",
     "text": [
      "mass of the ball is 13.783737767625214 kg\n"
     ]
    }
   ],
   "source": [
    "#we need mass\n",
    "pi = math.pi\n",
    "volume = (4/3)* pi* (d/2)**3\n",
    "m = p * volume\n",
    "print(\"mass of the ball is\",m,\"kg\")\n",
    "\n",
    "    "
   ]
  },
  {
   "cell_type": "code",
   "execution_count": 11,
   "metadata": {},
   "outputs": [],
   "source": [
    "def withdrag(t,y):\n",
    "    c = gamma * d**2\n",
    "    dx = y[2]\n",
    "    dy = y[3]\n",
    "    dxv = -c/m * np.sqrt(y[2]**2 + y[3]**2) *y[2]\n",
    "    dyv = -g - c/m * np.sqrt(y[2]**2 + y[3]**2) *y[3]\n",
    "    return[dx,dy,dxv,dyv]"
   ]
  },
  {
   "cell_type": "code",
   "execution_count": 12,
   "metadata": {},
   "outputs": [],
   "source": [
    "drag_RK45 = integrate.solve_ivp(withdrag,(ti,tf),ri, method='RK45', t_eval = t)  \n",
    "xd = drag_RK45.y[0]#d stands for drag\n",
    "yd = drag_RK45.y[1]#d stands for drag"
   ]
  },
  {
   "cell_type": "code",
   "execution_count": 13,
   "metadata": {},
   "outputs": [
    {
     "name": "stdout",
     "output_type": "stream",
     "text": [
      "[False  True  True  True  True  True  True  True  True  True  True  True\n",
      "  True  True  True  True  True  True  True  True  True  True  True  True\n",
      "  True  True  True  True  True  True  True  True  True  True  True  True\n",
      "  True  True  True  True  True  True  True  True  True  True  True  True\n",
      "  True  True  True  True  True  True  True  True  True False False False\n",
      " False False False False False False False False False False False False\n",
      " False False False False False False False False False False False False\n",
      " False False False False False False False False False False False False\n",
      " False False False False]\n",
      "the range is 3114.8789453270942 m\n"
     ]
    },
    {
     "data": {
      "image/png": "[encoded data removed]",
      "text/plain": [
       "<Figure size 432x288 with 1 Axes>"
      ]
     },
     "metadata": {
      "needs_background": "light"
     },
     "output_type": "display_data"
    }
   ],
   "source": [
    "\n",
    "fig = plt.figure(\"Scipy)\")\n",
    "ax = fig.add_axes([0.2,0.2,0.7,0.7])\n",
    "ax.plot(xd,yd,'g', label=r'$Scipy (RK45)$')\n",
    "ax.set_xlabel('x (m)')\n",
    "ax.set_ylabel('y (m)')\n",
    "plt.axhline(y=0, color='b', linestyle='-')\n",
    "above = yd> 0\n",
    "print(above)\n",
    "#lands at 84 seconds about\n",
    "print('the range is',xd[84], 'm')"
   ]
  },
  {
   "cell_type": "markdown",
   "metadata": {},
   "source": [
    "# Part D "
   ]
  },
  {
   "cell_type": "markdown",
   "metadata": {},
   "source": [
    "$c(y) = \\gamma D^2exp(-y/\\lambda)$"
   ]
  },
  {
   "cell_type": "code",
   "execution_count": 14,
   "metadata": {},
   "outputs": [],
   "source": [
    "#e = 2.71828\n",
    "#for n in y[n]:\n",
    "#    c = gamma * d**2 * e**(-y[i]/lamda)\n",
    "#def withvariation(t,y):\n",
    "#    c = gamma * d**2 * e**(-y/lamda)\n",
    "#    dx = y[2]\n",
    "#    dy = y[3]\n",
    "#    dxv = -c/m * np.sqrt(y[2]**2 + y[3]**2) *y[2]\n",
    "#    dyv = -g - c/m * np.sqrt(y[2]**2 + y[3]**2) *y[3]\n",
    "#    return[dx,dy,dxv,dyv]"
   ]
  },
  {
   "cell_type": "code",
   "execution_count": 15,
   "metadata": {},
   "outputs": [
    {
     "name": "stdout",
     "output_type": "stream",
     "text": [
      "due to d not working i substitute in just drag to to close relationship\n"
     ]
    }
   ],
   "source": [
    "print(\"due to d not working i substitute in just drag to to close relationship\")\n",
    "var_RK45 = integrate.solve_ivp(withdrag,(ti,tf),ri, method='RK45', t_eval = t)\n",
    "xvar = var_RK45.y[0]#d stands for drag\n",
    "yvar = var_RK45.y[1]#d stands for drag"
   ]
  },
  {
   "cell_type": "code",
   "execution_count": 16,
   "metadata": {},
   "outputs": [],
   "source": [
    "#fig = plt.figure(\"Scipy)\")\n",
    "#ax = fig.add_axes([0.2,0.2,0.7,0.7])\n",
    "#ax.plot(xvar,yvar,'g', label=r\n",
    "#ax.set_xlabel('x (m)')\n",
    "#ax.set_ylabel('y (m)')\n",
    "#plt.axhline(y=0, color='b', linestyle='-')\n",
    "#won't graph, ironically line 3 will work in part e as in get a line for e, i am getting"
   ]
  },
  {
   "cell_type": "markdown",
   "metadata": {},
   "source": [
    "# Part E"
   ]
  },
  {
   "cell_type": "code",
   "execution_count": 17,
   "metadata": {},
   "outputs": [
    {
     "name": "stdout",
     "output_type": "stream",
     "text": [
      "turning on air resistance makes a bigger difference then turning on variation, though i couldn't see d due to high lambda the value of e^function will go to 1\n"
     ]
    },
    {
     "data": {
      "image/png": "[encoded data removed]",
      "text/plain": [
       "<Figure size 432x288 with 1 Axes>"
      ]
     },
     "metadata": {
      "needs_background": "light"
     },
     "output_type": "display_data"
    }
   ],
   "source": [
    "fig = plt.figure(\"Scipy)\")\n",
    "ax = fig.add_axes([0.2,0.2,0.7,0.7])\n",
    "ax.plot(xvar,yvar,'g', label='variation')\n",
    "ax.plot(xd,yd,'r', label='with drag')\n",
    "ax.plot(xt,yt,'y', label='no drag')\n",
    "ax.set_xlabel('x (m)')\n",
    "ax.set_ylabel('y (m)')\n",
    "plt.axhline(y=0, color='k', linestyle='-')\n",
    "plt.legend(loc=\"best\")\n",
    "print(\"turning on air resistance makes a bigger difference then turning on variation, though i couldn't see d due to high lambda the value of e^function will go to 1\")"
   ]
  },
  {
   "cell_type": "code",
   "execution_count": null,
   "metadata": {},
   "outputs": [],
   "source": []
  }
 ],
 "metadata": {
  "kernelspec": {
   "display_name": "Python 3",
   "language": "python",
   "name": "python3"
  },
  "language_info": {
   "codemirror_mode": {
    "name": "ipython",
    "version": 3
   },
   "file_extension": ".py",
   "mimetype": "text/x-python",
   "name": "python",
   "nbconvert_exporter": "python",
   "pygments_lexer": "ipython3",
   "version": "3.7.4"
  }
 },
 "nbformat": 4,
 "nbformat_minor": 2
}
