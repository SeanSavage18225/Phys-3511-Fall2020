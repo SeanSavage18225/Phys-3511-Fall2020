{
 "cells": [
  {
   "cell_type": "code",
   "execution_count": 1,
   "metadata": {},
   "outputs": [
    {
     "name": "stdout",
     "output_type": "stream",
     "text": [
      "Sean Savage Homework 2A\n"
     ]
    }
   ],
   "source": [
    "print(\"Sean Savage Homework 2A\")\n",
    "import numpy as np\n",
    "import math\n",
    "import scipy\n",
    "from scipy import integrate\n",
    "import matplotlib\n",
    "import matplotlib.pyplot as plt\n"
   ]
  },
  {
   "cell_type": "code",
   "execution_count": 2,
   "metadata": {},
   "outputs": [
    {
     "name": "stdout",
     "output_type": "stream",
     "text": [
      "Question for trapazoid, middle and simpson\n"
     ]
    }
   ],
   "source": [
    "print(\"Question for trapazoid, middle and simpson\")\n",
    "f = lambda x : (2/((2**2+ x**2)**1.5))\n",
    "exact = 0.176777\n",
    "x0 = 0\n",
    "xn = 2\n",
    "n = 6\n",
    "dx = float((xn-x0)/n)"
   ]
  },
  {
   "cell_type": "code",
   "execution_count": 3,
   "metadata": {},
   "outputs": [],
   "source": [
    "def midpoint(f,x0,xn,n):\n",
    "    area = 0\n",
    "    dx = (xn-x0)/float(n)\n",
    "    area = dx*math.fsum(f(x0 + (i+0.5)*dx) for i in range (0,n))\n",
    "    return area"
   ]
  },
  {
   "cell_type": "code",
   "execution_count": 4,
   "metadata": {},
   "outputs": [
    {
     "name": "stdout",
     "output_type": "stream",
     "text": [
      "using my own reimann middle 0.3538599754585315\n"
     ]
    }
   ],
   "source": [
    "midsol = midpoint(f,x0,xn,n)\n",
    "print(\"using my own reimann middle\",midsol)"
   ]
  },
  {
   "cell_type": "code",
   "execution_count": 5,
   "metadata": {},
   "outputs": [],
   "source": [
    "def simp(f,x0,xn,n):\n",
    "    dx = (xn-x0)/float(n)\n",
    "    s_odd = 0\n",
    "    s_even = 0\n",
    "    for i in range (1,n,2):\n",
    "        s_odd += 4*f(x0 + i*dx) \n",
    "    for j in range (2,n-1,2):\n",
    "        s_even += 2*f(x0 + j*dx) \n",
    "    area = (dx/3.0)*(f(x0) + s_even + s_odd + f(xn))\n",
    "    return area\n"
   ]
  },
  {
   "cell_type": "code",
   "execution_count": 6,
   "metadata": {},
   "outputs": [
    {
     "name": "stdout",
     "output_type": "stream",
     "text": [
      "using my own simpson equation 0.3535517906244493\n"
     ]
    }
   ],
   "source": [
    "simpsol = simp(f,x0,xn,n)\n",
    "print(\"using my own simpson equation\",simpsol)"
   ]
  },
  {
   "cell_type": "code",
   "execution_count": 7,
   "metadata": {},
   "outputs": [],
   "source": [
    "def trap(f,x0,xn,n):\n",
    "    dx = (xn-x0)/float(n)\n",
    "    area = dx*math.fsum(0.5*(f(x0 +i*dx) + f(x0 + (i+1)*dx)) for i in range(0,n))\n",
    "    return area"
   ]
  },
  {
   "cell_type": "code",
   "execution_count": 8,
   "metadata": {},
   "outputs": [
    {
     "name": "stdout",
     "output_type": "stream",
     "text": [
      "using my own trapazoid equation 0.35293994641413146\n"
     ]
    }
   ],
   "source": [
    "trapsol = trap(f,x0,xn,n)\n",
    "print(\"using my own trapazoid equation\", trapsol)"
   ]
  },
  {
   "cell_type": "code",
   "execution_count": 9,
   "metadata": {},
   "outputs": [
    {
     "name": "stdout",
     "output_type": "stream",
     "text": [
      "have seen a similar integral in calculus using substitution the exact solution for the integration comes to\n",
      "exactnotbound= 2(x/4)* (4+x**2)**-0.5\n",
      "eaxactsolution= 0.3535533905932733\n"
     ]
    }
   ],
   "source": [
    "print(\"have seen a similar integral in calculus using substitution the exact solution for the integration comes to\")\n",
    "a=0\n",
    "b=2\n",
    "exact = 0.3535533905932733\n",
    "print(\"exactnotbound= 2(x/4)* (4+x**2)**-0.5\")\n",
    "print(\"eaxactsolution= 0.3535533905932733\")"
   ]
  },
  {
   "cell_type": "code",
   "execution_count": 10,
   "metadata": {},
   "outputs": [
    {
     "name": "stdout",
     "output_type": "stream",
     "text": [
      "using my own reimann middle 0.3538599754585315\n",
      "using my own simpson equation 0.3535517906244493\n",
      "using my own trapazoid equation 0.35293994641413146\n",
      "eaxactsolution= 0.3535533905932733\n"
     ]
    }
   ],
   "source": [
    "print(\"using my own reimann middle\",midsol)\n",
    "print(\"using my own simpson equation\",simpsol)\n",
    "print(\"using my own trapazoid equation\", trapsol)\n",
    "print(\"eaxactsolution= 0.3535533905932733\")"
   ]
  },
  {
   "cell_type": "code",
   "execution_count": 11,
   "metadata": {},
   "outputs": [
    {
     "name": "stdout",
     "output_type": "stream",
     "text": [
      "using scipy trapazoid rule\n",
      "0.3480796120241424\n"
     ]
    }
   ],
   "source": [
    "from scipy.integrate import trapz\n",
    "def f(x):\n",
    "    return (2/((2**2+ x**2)**1.5))\n",
    "x = np.array([0,1,2])\n",
    "print(\"using scipy trapazoid rule\")\n",
    "print(trapz(f(x)))"
   ]
  },
  {
   "cell_type": "code",
   "execution_count": 12,
   "metadata": {},
   "outputs": [
    {
     "name": "stdout",
     "output_type": "stream",
     "text": [
      "using scipy simpson rule\n",
      "0.35131003348275036\n"
     ]
    }
   ],
   "source": [
    "from scipy.integrate import simps\n",
    "def f(x):\n",
    "    return (2/((2**2+ x**2)**1.5))\n",
    "x = np.array([0,1,2])\n",
    "print(\"using scipy simpson rule\")\n",
    "print(simps(f(x)))"
   ]
  },
  {
   "cell_type": "code",
   "execution_count": 13,
   "metadata": {},
   "outputs": [
    {
     "name": "stdout",
     "output_type": "stream",
     "text": [
      "using my own simpson equation 0.3535517906244493\n",
      "using scipy simpson rule 0.35131003348275036\n",
      "my simpson was larger then scipy\n"
     ]
    }
   ],
   "source": [
    "print(\"using my own simpson equation\",simpsol)\n",
    "print(\"using scipy simpson rule\",simps(f(x)))\n",
    "print(\"my simpson was larger then scipy\")"
   ]
  },
  {
   "cell_type": "code",
   "execution_count": 14,
   "metadata": {},
   "outputs": [
    {
     "name": "stdout",
     "output_type": "stream",
     "text": [
      "using my own trapazoid equation 0.35293994641413146\n",
      "using scipy trapazoid rule 0.3480796120241424\n",
      "my trapazoid was larger then scipy\n"
     ]
    }
   ],
   "source": [
    "print(\"using my own trapazoid equation\", trapsol)\n",
    "print(\"using scipy trapazoid rule\",trapz(f(x)))\n",
    "print(\"my trapazoid was larger then scipy\")"
   ]
  },
  {
   "cell_type": "code",
   "execution_count": 15,
   "metadata": {},
   "outputs": [
    {
     "name": "stdout",
     "output_type": "stream",
     "text": [
      "compare my middle to exact\n",
      "0.0008671529489329416\n"
     ]
    }
   ],
   "source": [
    "print(\"compare my middle to exact\")\n",
    "mexact = (midsol-exact)/exact\n",
    "print(mexact)"
   ]
  },
  {
   "cell_type": "code",
   "execution_count": 16,
   "metadata": {},
   "outputs": [
    {
     "name": "stdout",
     "output_type": "stream",
     "text": [
      "compare my simpson to exact\n",
      "-4.525395220505397e-06\n"
     ]
    }
   ],
   "source": [
    "print(\"compare my simpson to exact\")\n",
    "sexact = (simpsol-exact)/exact\n",
    "print(sexact)"
   ]
  },
  {
   "cell_type": "code",
   "execution_count": 17,
   "metadata": {},
   "outputs": [
    {
     "name": "stdout",
     "output_type": "stream",
     "text": [
      "compare my trapazoid to exact\n",
      "-0.0017350821558024183\n"
     ]
    }
   ],
   "source": [
    "print(\"compare my trapazoid to exact\")\n",
    "texact = (trapsol-exact)/exact\n",
    "print(texact)"
   ]
  },
  {
   "cell_type": "code",
   "execution_count": 18,
   "metadata": {},
   "outputs": [
    {
     "name": "stdout",
     "output_type": "stream",
     "text": [
      "-0.00045253952205053975 my simpson rule\n",
      "-0.17350821558024182 my trapazoid rule\n",
      "0.08671529489329416 my middle rule\n",
      "here you can see that my simpson rule is the closest to the exact value\n"
     ]
    }
   ],
   "source": [
    "print(100*sexact,\"my simpson rule\")\n",
    "print(100*texact,\"my trapazoid rule\")\n",
    "print(100*mexact,\"my middle rule\")\n",
    "print(\"here you can see that my simpson rule is the closest to the exact value\")"
   ]
  },
  {
   "cell_type": "code",
   "execution_count": 19,
   "metadata": {},
   "outputs": [],
   "source": [
    "simpgraph=100*sexact\n",
    "trapgraph=100*texact\n",
    "midgraph=100*mexact"
   ]
  },
  {
   "cell_type": "code",
   "execution_count": 20,
   "metadata": {},
   "outputs": [
    {
     "name": "stdout",
     "output_type": "stream",
     "text": [
      "\n"
     ]
    }
   ],
   "source": [
    "print()"
   ]
  },
  {
   "cell_type": "code",
   "execution_count": 21,
   "metadata": {},
   "outputs": [
    {
     "data": {
      "text/plain": [
       "Text(0, 0.5, 'error compared to exact')"
      ]
     },
     "execution_count": 21,
     "metadata": {},
     "output_type": "execute_result"
    },
    {
     "data": {
      "image/png": "[encoded data removed]",
      "text/plain": [
       "<Figure size 432x288 with 1 Axes>"
      ]
     },
     "metadata": {
      "needs_background": "light"
     },
     "output_type": "display_data"
    }
   ],
   "source": [
    "fig = plt.figure()\n",
    "x = np.array([0,1,2])\n",
    "y = np.array([simpgraph,trapgraph,midgraph])\n",
    "ax = fig.add_axes([0.1,0.1,0.8,0.8])\n",
    "ax.scatter(x,y,marker='o')\n",
    "my_xticks=[\"Simpson\",\"Trapazoid\",\"Middle\"]\n",
    "plt.xticks(x, my_xticks)\n",
    "plt.axhline(y=0, color='r', linestyle='-')\n",
    "plt.xlabel('method of integration', fontsize=18)\n",
    "plt.ylabel('error compared to exact', fontsize=16)\n"
   ]
  },
  {
   "cell_type": "code",
   "execution_count": 22,
   "metadata": {},
   "outputs": [
    {
     "name": "stdout",
     "output_type": "stream",
     "text": [
      "question regaurding quad integration\n"
     ]
    },
    {
     "data": {
      "text/plain": [
       "(1.7724538509055159, 1.4202636781830878e-08)"
      ]
     },
     "execution_count": 22,
     "metadata": {},
     "output_type": "execute_result"
    }
   ],
   "source": [
    "print(\"question regaurding quad integration\")\n",
    "inv = lambda x: np.exp(-(x)**2)\n",
    "integrate.quad(inv,-(np.inf),np.inf)"
   ]
  },
  {
   "cell_type": "code",
   "execution_count": 23,
   "metadata": {},
   "outputs": [
    {
     "name": "stdout",
     "output_type": "stream",
     "text": [
      "answer to quad question\n",
      "1.77245\n",
      "if the solution is squared, we get roughly pi\n",
      "3.1415790025000003\n"
     ]
    }
   ],
   "source": [
    "print(\"answer to quad question\")\n",
    "app=1.77245\n",
    "print(app)\n",
    "value= 1.77245**2\n",
    "print(\"if the solution is squared, we get roughly pi\")\n",
    "print(value)"
   ]
  },
  {
   "cell_type": "code",
   "execution_count": null,
   "metadata": {},
   "outputs": [],
   "source": []
  }
 ],
 "metadata": {
  "kernelspec": {
   "display_name": "Python 3",
   "language": "python",
   "name": "python3"
  },
  "language_info": {
   "codemirror_mode": {
    "name": "ipython",
    "version": 3
   },
   "file_extension": ".py",
   "mimetype": "text/x-python",
   "name": "python",
   "nbconvert_exporter": "python",
   "pygments_lexer": "ipython3",
   "version": "3.7.4"
  }
 },
 "nbformat": 4,
 "nbformat_minor": 2
}
