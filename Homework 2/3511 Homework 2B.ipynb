{
 "cells": [
  {
   "cell_type": "code",
   "execution_count": 1,
   "metadata": {},
   "outputs": [],
   "source": [
    "import numpy as np\n",
    "import matplotlib.pyplot as plt\n",
    "from scipy import optimize\n",
    "from scipy.optimize import curve_fit #simpliest scipy fitting method\n",
    "import scipy.special as sf\n",
    "import math"
   ]
  },
  {
   "cell_type": "code",
   "execution_count": 2,
   "metadata": {},
   "outputs": [
    {
     "name": "stdout",
     "output_type": "stream",
     "text": [
      "This is Problem 1\n",
      "[80.37  80.375 80.387 80.336 80.415 80.27  80.44  80.483 80.433]\n",
      "[0.018 0.023 0.019 0.067 0.052 0.055 0.051 0.084 0.079]\n",
      "9\n"
     ]
    }
   ],
   "source": [
    "print(\"This is Problem 1\")\n",
    "EN,WM,U = np.loadtxt('Wmass_data.txt', unpack=True)\n",
    "print(WM)\n",
    "print(U)\n",
    "print(len(WM))"
   ]
  },
  {
   "cell_type": "code",
   "execution_count": 3,
   "metadata": {},
   "outputs": [
    {
     "name": "stdout",
     "output_type": "stream",
     "text": [
      "80.37914612783634 this is mean\n",
      "0.010338187803490969 this is error\n",
      "this is mean w 80.37914612783634 +- 0.010338187803490969\n"
     ]
    }
   ],
   "source": [
    "w = 1/U**2\n",
    "mean_w = np.sum(WM/U**2)/np.sum(1/U**2)\n",
    "mean_U = np.sqrt(1/np.sum(1/U**2))\n",
    "print(mean_w,\"this is mean\")\n",
    "print(mean_U,\"this is error\")\n",
    "#sum = 0\n",
    "#for i in range(0,len(WM)):\n",
    "#    sum = sum + WM[i];\n",
    "#print(str(sum))\n",
    "print(\"this is mean w\",mean_w, \"+-\",mean_U)"
   ]
  },
  {
   "cell_type": "code",
   "execution_count": 4,
   "metadata": {},
   "outputs": [
    {
     "name": "stdout",
     "output_type": "stream",
     "text": [
      "80.37914612783634 this is the weighted mean\n",
      "0.010338187803490969 this is the uncertainty\n",
      "80.37914612783634 +- 0.010338187803490969\n",
      "the bold faced from the article is 80.379 +- 0.012\n",
      "our data is close to the article\n"
     ]
    }
   ],
   "source": [
    "print(mean_w,\"this is the weighted mean\")\n",
    "print(mean_U,\"this is the uncertainty\")\n",
    "print(mean_w, \"+-\", mean_U)\n",
    "print(\"the bold faced from the article is 80.379 +- 0.012\")\n",
    "print(\"our data is close to the article\")"
   ]
  },
  {
   "cell_type": "code",
   "execution_count": 5,
   "metadata": {},
   "outputs": [
    {
     "name": "stdout",
     "output_type": "stream",
     "text": [
      "[80.37914613]\n",
      "[[0.00010688]]\n",
      "fit of mass is  80.37914612783638 +- [0.01033819]\n"
     ]
    }
   ],
   "source": [
    "def fun_WM(x,y):\n",
    "    return y\n",
    "poW, pou = curve_fit(fun_WM,EN,WM, sigma=U,absolute_sigma=True)\n",
    "print(poW)\n",
    "print(pou)\n",
    "shape_error = pou[0]**0.5\n",
    "print(\"fit of mass is \",poW[0],'+-',shape_error)"
   ]
  },
  {
   "cell_type": "code",
   "execution_count": 6,
   "metadata": {},
   "outputs": [
    {
     "name": "stdout",
     "output_type": "stream",
     "text": [
      "1\n",
      "Fit 1 results:\n",
      "\n",
      " chi2 =  8.706836513332618 \n",
      " dof =  7 \n",
      " reduced chi2 =  0.9674262792591798 \n",
      " p-value =  0.46476397232706534\n",
      "based on the p value the data is consistent  \n"
     ]
    }
   ],
   "source": [
    "Fit1_chisq = np.sum( (WM - mean_w)**2/(U**2))\n",
    "dof = len(EN) - len(poW) - 1\n",
    "print(len(poW))\n",
    "Fit1_pvalue = sf.gammaincc(len(EN)/2.0, Fit1_chisq/2.0)\n",
    "\n",
    "print('Fit 1 results:\\n')\n",
    "print(' chi2 = ',Fit1_chisq,'\\n dof = ', dof, '\\n reduced chi2 = ', Fit1_chisq/len(EN), '\\n p-value = ',Fit1_pvalue)\n",
    "print(\"based on the p value the data is consistent  \")"
   ]
  },
  {
   "cell_type": "code",
   "execution_count": 7,
   "metadata": {},
   "outputs": [
    {
     "name": "stdout",
     "output_type": "stream",
     "text": [
      "80.37914612783638\n"
     ]
    }
   ],
   "source": [
    "wmfit = np.repeat(poW[0],len(WM))\n",
    "print(wmfit[0])\n"
   ]
  },
  {
   "cell_type": "code",
   "execution_count": 8,
   "metadata": {},
   "outputs": [
    {
     "name": "stdout",
     "output_type": "stream",
     "text": [
      "80.37914612783638\n",
      "the mean i had was 80.37914612783634 and the parameter is greater then p0\n"
     ]
    },
    {
     "data": {
      "image/png": "[encoded data removed]",
      "text/plain": [
       "<Figure size 432x288 with 1 Axes>"
      ]
     },
     "metadata": {
      "needs_background": "light"
     },
     "output_type": "display_data"
    }
   ],
   "source": [
    "fig = plt.figure()\n",
    "axes = fig.add_axes([0.15,0.1,1.2,1.2])\n",
    "axes.errorbar(WM, EN, xerr = U, fmt='.')\n",
    "axes.plot(wmfit,EN,\"b-\",label = 'bestfit')\n",
    "axes.set_xlabel('W mass Ge/V')\n",
    "axes.set_ylabel('experimenal number')\n",
    "axes.set_title(\" W mass best fit\")\n",
    "#plt.axhline(x=80.30, color='r', linestyle='-')\n",
    "#plt.axhline(y=mean, color='b', linestyle='-')\n",
    "print(wmfit[0])\n",
    "print(\"the mean i had was\",mean_w, \"and the parameter is greater then p0\")"
   ]
  },
  {
   "cell_type": "code",
   "execution_count": 9,
   "metadata": {},
   "outputs": [
    {
     "name": "stdout",
     "output_type": "stream",
     "text": [
      "the p0 value, is less then the one calculated before\n"
     ]
    }
   ],
   "source": [
    "print(\"the p0 value, is less then the one calculated before\")"
   ]
  },
  {
   "cell_type": "code",
   "execution_count": null,
   "metadata": {},
   "outputs": [],
   "source": []
  },
  {
   "cell_type": "code",
   "execution_count": null,
   "metadata": {},
   "outputs": [],
   "source": []
  },
  {
   "cell_type": "code",
   "execution_count": 10,
   "metadata": {},
   "outputs": [
    {
     "name": "stdout",
     "output_type": "stream",
     "text": [
      "This is Problem 2\n",
      "[0.8335  0.895   0.916   0.8775  0.875   0.879   0.912   0.871   0.84148\n",
      " 0.8768  0.844   0.897   0.875   0.895   0.84087]\n",
      "[0.0095  0.0198  0.024   0.0051  0.01    0.00781 0.0114  0.00949 0.00067\n",
      " 0.0069  0.006   0.018   0.0068  0.0164  0.00039]\n"
     ]
    }
   ],
   "source": [
    "print(\"This is Problem 2\")\n",
    "ExN,R,UN = np.loadtxt('proton_radius_data.txt', unpack=True)\n",
    "print(R)\n",
    "print(UN)"
   ]
  },
  {
   "cell_type": "code",
   "execution_count": 11,
   "metadata": {},
   "outputs": [
    {
     "name": "stdout",
     "output_type": "stream",
     "text": [
      "0.8416225242550588 this is mean\n",
      "0.0003337320304863616 this is error\n",
      "0.8416225242550588 +- 0.0003337320304863616\n",
      "the value from the PDG is 0.8751+- 0.0061\n",
      "our value is slightly lower then the PDG value\n"
     ]
    }
   ],
   "source": [
    "rad = 1/UN**2\n",
    "meanr = np.sum(R/UN**2)/np.sum(1/UN**2)\n",
    "mean_UN = np.sqrt(1/np.sum(1/UN**2))\n",
    "print(meanr,\"this is mean\")\n",
    "print(mean_UN,\"this is error\")\n",
    "print(meanr,\"+-\",mean_UN)\n",
    "print(\"the value from the PDG is 0.8751+- 0.0061\")\n",
    "print(\"our value is slightly lower then the PDG value\")"
   ]
  },
  {
   "cell_type": "code",
   "execution_count": 12,
   "metadata": {},
   "outputs": [
    {
     "name": "stdout",
     "output_type": "stream",
     "text": [
      "[0.84162252]\n",
      "[[1.11377068e-07]]\n",
      "fit of mass is  0.8416225241593092 +- [0.00033373]\n"
     ]
    }
   ],
   "source": [
    "def fun_R(a,b):\n",
    "    return b\n",
    "por, pour = curve_fit(fun_R,ExN,R, sigma=UN,absolute_sigma=True)\n",
    "print(por)\n",
    "print(pour)\n",
    "shape_error = pour[0]**0.5\n",
    "print(\"fit of mass is \",por[0],'+-',shape_error)"
   ]
  },
  {
   "cell_type": "code",
   "execution_count": 13,
   "metadata": {},
   "outputs": [
    {
     "name": "stdout",
     "output_type": "stream",
     "text": [
      "1\n",
      "Fit 1 results:\n",
      "\n",
      " chi2 =  222.8986182713527 \n",
      " dof =  13 \n",
      " reduced chi2 =  14.859907884756845 \n",
      " p-value =  4.5487995265920645e-39\n",
      "based on the p value the data is not consistent, I see the fuss is about wide discrepancy  \n"
     ]
    }
   ],
   "source": [
    "Fit1_chisr = np.sum( (R - meanr)**2/(UN**2))\n",
    "dofr = len(ExN) - len(por) - 1\n",
    "print(len(por))\n",
    "Fit1_pvaluer = sf.gammaincc(len(ExN)/2.0, Fit1_chisr/2.0)\n",
    "\n",
    "print('Fit 1 results:\\n')\n",
    "print(' chi2 = ',Fit1_chisr,'\\n dof = ', dofr, '\\n reduced chi2 = ', Fit1_chisr/len(ExN), '\\n p-value = ',Fit1_pvaluer)\n",
    "print(\"based on the p value the data is not consistent, I see the fuss is about wide discrepancy  \")"
   ]
  },
  {
   "cell_type": "code",
   "execution_count": 14,
   "metadata": {},
   "outputs": [
    {
     "name": "stdout",
     "output_type": "stream",
     "text": [
      "0.8416225241593092\n"
     ]
    }
   ],
   "source": [
    "rfit = np.repeat(por[0],len(R))\n",
    "print(rfit[0])"
   ]
  },
  {
   "cell_type": "code",
   "execution_count": 15,
   "metadata": {},
   "outputs": [],
   "source": [
    "#fig = plt.figure()\n",
    "#axes = fig.add_axes([0.2,0.2,1.2,1.2])\n",
    "#axes.errorbar(ExN, R, yerr = UN, fmt='.')\n",
    "#axes.set_xlabel('experimental number')\n",
    "#axes.set_ylabel('R in fm')\n",
    "#plt.axhline(y=0.85, color='r', linestyle='-')\n",
    "#plt.axhline(y=mean, color='b', linestyle='-')\n",
    "#print(\"the mean i had was\",meanr, \"and the parameter is less then that\")"
   ]
  },
  {
   "cell_type": "code",
   "execution_count": 16,
   "metadata": {},
   "outputs": [
    {
     "name": "stdout",
     "output_type": "stream",
     "text": [
      "0.8416225241593092\n",
      "the mean i had was 0.8416225242550588 and the parameter is close to p0 value chosen\n"
     ]
    },
    {
     "data": {
      "image/png": "[encoded data removed]",
      "text/plain": [
       "<Figure size 432x288 with 1 Axes>"
      ]
     },
     "metadata": {
      "needs_background": "light"
     },
     "output_type": "display_data"
    }
   ],
   "source": [
    "fig = plt.figure()\n",
    "axes = fig.add_axes([0.15,0.1,1.2,1.2])\n",
    "axes.errorbar(R, ExN, xerr = UN, fmt='.')\n",
    "axes.plot(rfit,ExN,\"b-\",label = 'bestfit')\n",
    "axes.set_xlabel('radius in fm')\n",
    "axes.set_ylabel('experimenal number')\n",
    "axes.set_title(\" W mass best fit\")\n",
    "#plt.axhline(x=80.30, color='r', linestyle='-')\n",
    "#plt.axhline(y=mean, color='b', linestyle='-')\n",
    "print(rfit[0])\n",
    "print(\"the mean i had was\",meanr, \"and the parameter is close to p0 value chosen\")"
   ]
  },
  {
   "cell_type": "code",
   "execution_count": null,
   "metadata": {},
   "outputs": [],
   "source": []
  },
  {
   "cell_type": "code",
   "execution_count": 17,
   "metadata": {},
   "outputs": [
    {
     "name": "stdout",
     "output_type": "stream",
     "text": [
      "Problem 3\n",
      "[0.   0.02 0.04 0.06 0.08 0.1  0.12 0.14 0.16 0.18 0.2  0.22 0.24 0.26\n",
      " 0.28 0.3  0.32 0.34 0.36 0.38 0.4  0.42 0.44 0.46 0.48 0.51 0.53 0.55\n",
      " 0.57 0.59 0.61 0.63 0.65 0.67 0.69 0.71 0.73 0.75 0.77 0.79 0.81 0.83\n",
      " 0.85 0.87 0.89 0.91 0.93 0.95 0.97 0.99 1.01 1.03 1.05 1.07 1.09 1.11\n",
      " 1.13 1.15 1.17 1.19 1.21 1.23 1.25 1.27 1.29 1.31 1.33 1.35 1.37 1.39\n",
      " 1.41 1.43 1.45 1.47 1.49 1.52 1.54 1.56 1.58 1.6  1.62 1.64 1.66 1.68\n",
      " 1.7  1.72 1.74 1.76 1.78 1.8  1.82 1.84 1.86 1.88 1.9  1.92 1.94 1.96\n",
      " 1.98 2.  ]\n",
      "100\n"
     ]
    }
   ],
   "source": [
    "print(\"Problem 3\")\n",
    "energy,numpa,Upa = np.loadtxt('Ep_data.txt', unpack=True)\n",
    "print(energy)\n",
    "print(len(energy))\n",
    "#print(numpa)\n",
    "#print(Upa)"
   ]
  },
  {
   "cell_type": "code",
   "execution_count": 18,
   "metadata": {},
   "outputs": [
    {
     "data": {
      "text/plain": [
       "Text(0, 0.5, 'number of particles')"
      ]
     },
     "execution_count": 18,
     "metadata": {},
     "output_type": "execute_result"
    },
    {
     "data": {
      "image/png": "[encoded data removed]",
      "text/plain": [
       "<Figure size 432x288 with 1 Axes>"
      ]
     },
     "metadata": {
      "needs_background": "light"
     },
     "output_type": "display_data"
    }
   ],
   "source": [
    "fig = plt.figure()\n",
    "axes = fig.add_axes([0.2,0.2,1.8,1.8])\n",
    "axes.set_title('Number of Particles vs Energy')\n",
    "axes.errorbar(energy, numpa, yerr = Upa, fmt='.')\n",
    "axes.set_xlabel('energy (E/p)')\n",
    "axes.set_ylabel('number of particles')"
   ]
  },
  {
   "cell_type": "code",
   "execution_count": 19,
   "metadata": {},
   "outputs": [
    {
     "name": "stdout",
     "output_type": "stream",
     "text": [
      "e/p at 1.0 is electrons and e/p at 0.6 are pions\n",
      "we want to treat electrons as signal and pions as backround\n"
     ]
    }
   ],
   "source": [
    "print(\"e/p at 1.0 is electrons and e/p at 0.6 are pions\")\n",
    "print(\"we want to treat electrons as signal and pions as backround\")"
   ]
  },
  {
   "cell_type": "code",
   "execution_count": 20,
   "metadata": {},
   "outputs": [
    {
     "name": "stdout",
     "output_type": "stream",
     "text": [
      "2.718281828459045\n"
     ]
    }
   ],
   "source": [
    "e= math.exp(1)\n",
    "print(e)"
   ]
  },
  {
   "cell_type": "code",
   "execution_count": 21,
   "metadata": {},
   "outputs": [],
   "source": [
    "#G1= p1*e**((-(energy-p2)**2)/(2*p3))\n",
    "#print(G1)\n",
    "#plt.plot(energy,G1)\n",
    "plt.show()"
   ]
  },
  {
   "cell_type": "code",
   "execution_count": 22,
   "metadata": {},
   "outputs": [],
   "source": [
    "#def efunction(fun_Gsum,energy):\n",
    "#    return energy*a\n",
    "#pp, po = curve_fit(efunction, energy, numpa, sigma=Upa, absolute_sigma=True)\n",
    "#print(pp)\n",
    "#print('\\n')\n",
    "#print(po)"
   ]
  },
  {
   "cell_type": "code",
   "execution_count": 23,
   "metadata": {},
   "outputs": [
    {
     "data": {
      "text/plain": [
       "'e_chisq = np.sum( (Upa - efunction(energy,*pp))**2/Upa**2)\\nedof = LN - len(pp) - 1\\n\\nRit1_evalue = sf.gammaincc(edof/2.0, e_chisq/2.0)\\n\\nprint(\\'Fit 1 results:\\n\\')\\nprint(\\' chi2 = \\',e_chisq,\\'\\n dof = \\', edof, \\'\\n reduced chi2 = \\', e_chisq/dof, \\'\\n p-value = \\',Rit1_evalue)\\nprint(\"the p value is coming out as 0 but that because the function is wrong\")'"
      ]
     },
     "execution_count": 23,
     "metadata": {},
     "output_type": "execute_result"
    }
   ],
   "source": [
    "\"\"\"e_chisq = np.sum( (Upa - efunction(energy,*pp))**2/Upa**2)\n",
    "edof = LN - len(pp) - 1\n",
    "\n",
    "Rit1_evalue = sf.gammaincc(edof/2.0, e_chisq/2.0)\n",
    "\n",
    "print('Fit 1 results:\\n')\n",
    "print(' chi2 = ',e_chisq,'\\n dof = ', edof, '\\n reduced chi2 = ', e_chisq/dof, '\\n p-value = ',Rit1_evalue)\n",
    "print(\"the p value is coming out as 0 but that because the function is wrong\")\"\"\""
   ]
  },
  {
   "cell_type": "code",
   "execution_count": 24,
   "metadata": {},
   "outputs": [],
   "source": [
    "#G2= A2* exp(x-mean)**2/sigma2\n",
    "#G1= A1* exp(x-mean)**2/sigma1\n",
    "#def G1(A1,mean1,sigma1):\n",
    "    \n",
    "def fun_Gsum(A1,mean1,sigma1,A2,mean2,sigma2):\n",
    "    return A1* e**((x-mean1)**2/sigma1) + A2* e**((x-mean2)**2/sigma2)\n",
    "\n",
    "def fun_G1(A1,mean1,sigma1):\n",
    "    return A1* e**((x-mean1)**2/sigma1)\n"
   ]
  },
  {
   "cell_type": "code",
   "execution_count": 25,
   "metadata": {},
   "outputs": [],
   "source": [
    "#G2= p4*e**((-(x-p5)**2)/(2*p6))"
   ]
  },
  {
   "cell_type": "code",
   "execution_count": 26,
   "metadata": {},
   "outputs": [
    {
     "name": "stdout",
     "output_type": "stream",
     "text": [
      "[20.20935641  0.60123036  0.02119171  9.74415327  1.00366103  0.11866808]\n",
      "\n",
      "\n",
      "[[ 1.34654001e-01  2.68234849e-04  1.16735299e-04  6.72736783e-03\n",
      "   2.44127935e-03 -2.28878076e-03]\n",
      " [ 2.68234849e-04  2.44553825e-06  5.60841847e-07 -3.19657847e-05\n",
      "   8.14662918e-06 -5.82771997e-06]\n",
      " [ 1.16735299e-04  5.60841847e-07  5.96159918e-07 -9.43049348e-06\n",
      "   4.92764244e-06 -3.94377308e-06]\n",
      " [ 6.72736783e-03 -3.19657847e-05 -9.43049348e-06  1.89693632e-02\n",
      "   5.67955650e-06 -3.40507766e-04]\n",
      " [ 2.44127935e-03  8.14662918e-06  4.92764244e-06  5.67955650e-06\n",
      "   7.59694899e-05 -5.25936096e-05]\n",
      " [-2.28878076e-03 -5.82771997e-06 -3.94377308e-06 -3.40507766e-04\n",
      "  -5.25936096e-05  6.06586624e-05]]\n",
      "Fit 1 results:\n",
      "\n",
      " chi2 =  108.4209411205048 \n",
      " dof =  93 \n",
      " reduced chi2 =  15.48870587435783 \n",
      " p-value =  0.1309498054808455\n",
      "based on these statistics this is an acceptable fit\n"
     ]
    },
    {
     "name": "stderr",
     "output_type": "stream",
     "text": [
      "C:\\Users\\shwan\\Anaconda3\\lib\\site-packages\\ipykernel_launcher.py:5: RuntimeWarning: overflow encountered in multiply\n",
      "  \"\"\"\n"
     ]
    }
   ],
   "source": [
    "\n",
    "def fun_G1(energy,A1,mean1,sigma1):\n",
    "    return A1* np.exp(-(energy-mean1)**2/sigma1)\n",
    "\n",
    "def fun_Gsum(energy,A1,mean1,sigma1,A2,mean2,sigma2):\n",
    "    return A1* np.exp(-(energy-mean1)**2/sigma1) + A2* e**(-(energy-mean2)**2/sigma2)\n",
    "\n",
    "pp, po = curve_fit(fun_Gsum, energy, numpa, sigma=Upa, absolute_sigma=True)\n",
    "print(pp)\n",
    "print('\\n')\n",
    "print(po)\n",
    "e_chisq = np.sum((numpa - fun_Gsum(energy,*pp))**2/Upa**2)\n",
    "edof = len(energy) - len(pp) - 1\n",
    "Rit1_evalue = sf.gammaincc(edof/2.0, e_chisq/2.0)\n",
    "\n",
    "print('Fit 1 results:\\n')\n",
    "print(' chi2 = ',e_chisq,'\\n dof = ', edof, '\\n reduced chi2 = ', e_chisq/dof, '\\n p-value = ',Rit1_evalue)\n",
    "print(\"based on these statistics this is an acceptable fit\")"
   ]
  },
  {
   "cell_type": "code",
   "execution_count": 27,
   "metadata": {},
   "outputs": [
    {
     "ename": "ValueError",
     "evalue": "The lengths of the data (100) and the error 1 do not match",
     "output_type": "error",
     "traceback": [
      "\u001b[1;31m---------------------------------------------------------------------------\u001b[0m",
      "\u001b[1;31mValueError\u001b[0m                                Traceback (most recent call last)",
      "\u001b[1;32m<ipython-input-27-302c22c75559>\u001b[0m in \u001b[0;36m<module>\u001b[1;34m\u001b[0m\n\u001b[0;32m      6\u001b[0m \u001b[0maxes\u001b[0m\u001b[1;33m.\u001b[0m\u001b[0merrorbar\u001b[0m\u001b[1;33m(\u001b[0m\u001b[0menergy\u001b[0m\u001b[1;33m,\u001b[0m \u001b[0mnumpa\u001b[0m\u001b[1;33m,\u001b[0m \u001b[0myerr\u001b[0m \u001b[1;33m=\u001b[0m \u001b[0mUpa\u001b[0m\u001b[1;33m,\u001b[0m \u001b[0mfmt\u001b[0m\u001b[1;33m=\u001b[0m\u001b[1;34m'.'\u001b[0m\u001b[1;33m)\u001b[0m\u001b[1;33m\u001b[0m\u001b[1;33m\u001b[0m\u001b[0m\n\u001b[0;32m      7\u001b[0m \u001b[0maxes\u001b[0m\u001b[1;33m.\u001b[0m\u001b[0merrorbar\u001b[0m\u001b[1;33m(\u001b[0m\u001b[0menergy\u001b[0m\u001b[1;33m,\u001b[0m\u001b[0mfun_Gsum\u001b[0m\u001b[1;33m(\u001b[0m\u001b[0menergy\u001b[0m\u001b[1;33m,\u001b[0m\u001b[1;33m*\u001b[0m\u001b[0mpp\u001b[0m\u001b[1;33m)\u001b[0m\u001b[1;33m,\u001b[0m \u001b[0mlabel\u001b[0m \u001b[1;33m=\u001b[0m \u001b[1;34m\"gausian total\"\u001b[0m\u001b[1;33m)\u001b[0m\u001b[1;33m\u001b[0m\u001b[1;33m\u001b[0m\u001b[0m\n\u001b[1;32m----> 8\u001b[1;33m \u001b[0maxes\u001b[0m\u001b[1;33m.\u001b[0m\u001b[0merrorbar\u001b[0m\u001b[1;33m(\u001b[0m\u001b[0menergy\u001b[0m\u001b[1;33m,\u001b[0m\u001b[0mfun_G1\u001b[0m\u001b[1;33m(\u001b[0m\u001b[0menergy\u001b[0m\u001b[1;33m,\u001b[0m\u001b[0mpp\u001b[0m\u001b[1;33m[\u001b[0m\u001b[1;36m0\u001b[0m\u001b[1;33m]\u001b[0m\u001b[1;33m,\u001b[0m\u001b[0mpp\u001b[0m\u001b[1;33m[\u001b[0m\u001b[1;36m1\u001b[0m\u001b[1;33m]\u001b[0m\u001b[1;33m,\u001b[0m\u001b[0mpp\u001b[0m\u001b[1;33m[\u001b[0m\u001b[1;36m2\u001b[0m\u001b[1;33m]\u001b[0m\u001b[1;33m)\u001b[0m\u001b[1;33m,\u001b[0m\u001b[1;34m'g-'\u001b[0m\u001b[1;33m,\u001b[0m \u001b[0mlabel\u001b[0m \u001b[1;33m=\u001b[0m \u001b[1;34m\"pion\"\u001b[0m\u001b[1;33m)\u001b[0m\u001b[1;33m\u001b[0m\u001b[1;33m\u001b[0m\u001b[0m\n\u001b[0m\u001b[0;32m      9\u001b[0m \u001b[0maxes\u001b[0m\u001b[1;33m.\u001b[0m\u001b[0merrorbar\u001b[0m\u001b[1;33m(\u001b[0m\u001b[0menergy\u001b[0m\u001b[1;33m,\u001b[0m\u001b[0mfun_G1\u001b[0m\u001b[1;33m(\u001b[0m\u001b[0menergy\u001b[0m\u001b[1;33m,\u001b[0m\u001b[0mpp\u001b[0m\u001b[1;33m[\u001b[0m\u001b[1;36m3\u001b[0m\u001b[1;33m]\u001b[0m\u001b[1;33m,\u001b[0m\u001b[0mpp\u001b[0m\u001b[1;33m[\u001b[0m\u001b[1;36m4\u001b[0m\u001b[1;33m]\u001b[0m\u001b[1;33m,\u001b[0m\u001b[0mpp\u001b[0m\u001b[1;33m[\u001b[0m\u001b[1;36m5\u001b[0m\u001b[1;33m]\u001b[0m\u001b[1;33m)\u001b[0m\u001b[1;33m,\u001b[0m\u001b[1;34m'o-'\u001b[0m\u001b[1;33m,\u001b[0m \u001b[0mlabel\u001b[0m \u001b[1;33m=\u001b[0m \u001b[1;34m\"electron\"\u001b[0m\u001b[1;33m)\u001b[0m\u001b[1;33m\u001b[0m\u001b[1;33m\u001b[0m\u001b[0m\n\u001b[0;32m     10\u001b[0m \u001b[0maxes\u001b[0m\u001b[1;33m.\u001b[0m\u001b[0mlegend\u001b[0m\u001b[1;33m(\u001b[0m\u001b[1;33m)\u001b[0m\u001b[1;33m\u001b[0m\u001b[1;33m\u001b[0m\u001b[0m\n",
      "\u001b[1;32m~\\Anaconda3\\lib\\site-packages\\matplotlib\\__init__.py\u001b[0m in \u001b[0;36minner\u001b[1;34m(ax, data, *args, **kwargs)\u001b[0m\n\u001b[0;32m   1599\u001b[0m     \u001b[1;32mdef\u001b[0m \u001b[0minner\u001b[0m\u001b[1;33m(\u001b[0m\u001b[0max\u001b[0m\u001b[1;33m,\u001b[0m \u001b[1;33m*\u001b[0m\u001b[0margs\u001b[0m\u001b[1;33m,\u001b[0m \u001b[0mdata\u001b[0m\u001b[1;33m=\u001b[0m\u001b[1;32mNone\u001b[0m\u001b[1;33m,\u001b[0m \u001b[1;33m**\u001b[0m\u001b[0mkwargs\u001b[0m\u001b[1;33m)\u001b[0m\u001b[1;33m:\u001b[0m\u001b[1;33m\u001b[0m\u001b[1;33m\u001b[0m\u001b[0m\n\u001b[0;32m   1600\u001b[0m         \u001b[1;32mif\u001b[0m \u001b[0mdata\u001b[0m \u001b[1;32mis\u001b[0m \u001b[1;32mNone\u001b[0m\u001b[1;33m:\u001b[0m\u001b[1;33m\u001b[0m\u001b[1;33m\u001b[0m\u001b[0m\n\u001b[1;32m-> 1601\u001b[1;33m             \u001b[1;32mreturn\u001b[0m \u001b[0mfunc\u001b[0m\u001b[1;33m(\u001b[0m\u001b[0max\u001b[0m\u001b[1;33m,\u001b[0m \u001b[1;33m*\u001b[0m\u001b[0mmap\u001b[0m\u001b[1;33m(\u001b[0m\u001b[0msanitize_sequence\u001b[0m\u001b[1;33m,\u001b[0m \u001b[0margs\u001b[0m\u001b[1;33m)\u001b[0m\u001b[1;33m,\u001b[0m \u001b[1;33m**\u001b[0m\u001b[0mkwargs\u001b[0m\u001b[1;33m)\u001b[0m\u001b[1;33m\u001b[0m\u001b[1;33m\u001b[0m\u001b[0m\n\u001b[0m\u001b[0;32m   1602\u001b[0m \u001b[1;33m\u001b[0m\u001b[0m\n\u001b[0;32m   1603\u001b[0m         \u001b[0mbound\u001b[0m \u001b[1;33m=\u001b[0m \u001b[0mnew_sig\u001b[0m\u001b[1;33m.\u001b[0m\u001b[0mbind\u001b[0m\u001b[1;33m(\u001b[0m\u001b[0max\u001b[0m\u001b[1;33m,\u001b[0m \u001b[1;33m*\u001b[0m\u001b[0margs\u001b[0m\u001b[1;33m,\u001b[0m \u001b[1;33m**\u001b[0m\u001b[0mkwargs\u001b[0m\u001b[1;33m)\u001b[0m\u001b[1;33m\u001b[0m\u001b[1;33m\u001b[0m\u001b[0m\n",
      "\u001b[1;32m~\\Anaconda3\\lib\\site-packages\\matplotlib\\axes\\_axes.py\u001b[0m in \u001b[0;36merrorbar\u001b[1;34m(self, x, y, yerr, xerr, fmt, ecolor, elinewidth, capsize, barsabove, lolims, uplims, xlolims, xuplims, errorevery, capthick, **kwargs)\u001b[0m\n\u001b[0;32m   3422\u001b[0m \u001b[1;33m\u001b[0m\u001b[0m\n\u001b[0;32m   3423\u001b[0m         \u001b[1;32mif\u001b[0m \u001b[0myerr\u001b[0m \u001b[1;32mis\u001b[0m \u001b[1;32mnot\u001b[0m \u001b[1;32mNone\u001b[0m\u001b[1;33m:\u001b[0m\u001b[1;33m\u001b[0m\u001b[1;33m\u001b[0m\u001b[0m\n\u001b[1;32m-> 3424\u001b[1;33m             \u001b[0mlower\u001b[0m\u001b[1;33m,\u001b[0m \u001b[0mupper\u001b[0m \u001b[1;33m=\u001b[0m \u001b[0mextract_err\u001b[0m\u001b[1;33m(\u001b[0m\u001b[0myerr\u001b[0m\u001b[1;33m,\u001b[0m \u001b[0my\u001b[0m\u001b[1;33m)\u001b[0m\u001b[1;33m\u001b[0m\u001b[1;33m\u001b[0m\u001b[0m\n\u001b[0m\u001b[0;32m   3425\u001b[0m             \u001b[1;31m# select points without upper/lower limits in y and\u001b[0m\u001b[1;33m\u001b[0m\u001b[1;33m\u001b[0m\u001b[1;33m\u001b[0m\u001b[0m\n\u001b[0;32m   3426\u001b[0m             \u001b[1;31m# draw normal errorbars for these points\u001b[0m\u001b[1;33m\u001b[0m\u001b[1;33m\u001b[0m\u001b[1;33m\u001b[0m\u001b[0m\n",
      "\u001b[1;32m~\\Anaconda3\\lib\\site-packages\\matplotlib\\axes\\_axes.py\u001b[0m in \u001b[0;36mextract_err\u001b[1;34m(err, data)\u001b[0m\n\u001b[0;32m   3366\u001b[0m                 \u001b[1;32mif\u001b[0m \u001b[0mlen\u001b[0m\u001b[1;33m(\u001b[0m\u001b[0mdata\u001b[0m\u001b[1;33m)\u001b[0m \u001b[1;33m!=\u001b[0m \u001b[0mlen\u001b[0m\u001b[1;33m(\u001b[0m\u001b[0me\u001b[0m\u001b[1;33m)\u001b[0m\u001b[1;33m:\u001b[0m\u001b[1;33m\u001b[0m\u001b[1;33m\u001b[0m\u001b[0m\n\u001b[0;32m   3367\u001b[0m                     raise ValueError(\n\u001b[1;32m-> 3368\u001b[1;33m                         \u001b[1;34mf\"The lengths of the data ({len(data)}) and the \"\u001b[0m\u001b[1;33m\u001b[0m\u001b[1;33m\u001b[0m\u001b[0m\n\u001b[0m\u001b[0;32m   3369\u001b[0m                         f\"error {len(e)} do not match\")\n\u001b[0;32m   3370\u001b[0m             \u001b[0mlow\u001b[0m \u001b[1;33m=\u001b[0m \u001b[1;33m[\u001b[0m\u001b[0mv\u001b[0m \u001b[1;33m-\u001b[0m \u001b[0me\u001b[0m \u001b[1;32mfor\u001b[0m \u001b[0mv\u001b[0m\u001b[1;33m,\u001b[0m \u001b[0me\u001b[0m \u001b[1;32min\u001b[0m \u001b[0mzip\u001b[0m\u001b[1;33m(\u001b[0m\u001b[0mdata\u001b[0m\u001b[1;33m,\u001b[0m \u001b[0ma\u001b[0m\u001b[1;33m)\u001b[0m\u001b[1;33m]\u001b[0m\u001b[1;33m\u001b[0m\u001b[1;33m\u001b[0m\u001b[0m\n",
      "\u001b[1;31mValueError\u001b[0m: The lengths of the data (100) and the error 1 do not match"
     ]
    },
    {
     "data": {
      "image/png": "[encoded data removed]",
      "text/plain": [
       "<Figure size 432x288 with 1 Axes>"
      ]
     },
     "metadata": {
      "needs_background": "light"
     },
     "output_type": "display_data"
    }
   ],
   "source": [
    "fig = plt.figure()\n",
    "axes = fig.add_axes([0.2,0.2,1.8,1.8])\n",
    "axes.set_title('Number of Particles vs Energy')\n",
    "axes.set_xlabel('energy (E/p)')\n",
    "axes.set_ylabel('number of particles')\n",
    "axes.errorbar(energy, numpa, yerr = Upa, fmt='.')\n",
    "axes.errorbar(energy,fun_Gsum(energy,*pp), label = \"gausian total\")\n",
    "axes.errorbar(energy,fun_G1(energy,pp[0],pp[1],pp[2]),'g-', label = \"pion\")\n",
    "axes.errorbar(energy,fun_G1(energy,pp[3],pp[4],pp[5]),'o-', label = \"electron\")\n",
    "axes.legend()"
   ]
  },
  {
   "cell_type": "code",
   "execution_count": 28,
   "metadata": {},
   "outputs": [],
   "source": [
    "import scipy.integrate as integrate\n",
    "import scipy.special as special\n",
    "from scipy.integrate import quad\n",
    "ti = 0.0\n",
    "tf = 2.0\n",
    "ptotal= np.array(integrate.quad(fun_G1,ti,tf,args=(pp[0],pp[1],pp[2])))\n",
    "etotal= np.array(integrate.quad(fun_G1,ti,tf,args=(pp[3],pp[4],pp[5])))\n",
    "\n"
   ]
  },
  {
   "cell_type": "code",
   "execution_count": 29,
   "metadata": {},
   "outputs": [],
   "source": [
    "spaced = np.linspace(0.3,0.8,10)\n",
    "psigs= np.zeros( (len(spaced),2) )\n",
    "esigs= np.zeros( (len(spaced),2) )"
   ]
  },
  {
   "cell_type": "code",
   "execution_count": 30,
   "metadata": {},
   "outputs": [],
   "source": [
    "for n in range(0,len(spaced)):\n",
    "    esigs[n] = integrate.quad(fun_G1,spaced[n],tf,args=(pp[3],pp[4],pp[5]))\n",
    "    psigs[n] = integrate.quad(fun_G1,spaced[n],tf,args=(pp[0],pp[1],pp[2]))"
   ]
  },
  {
   "cell_type": "code",
   "execution_count": 31,
   "metadata": {},
   "outputs": [
    {
     "name": "stdout",
     "output_type": "stream",
     "text": [
      "[[9.98085019e+01 5.64454572e-01]\n",
      " [9.96119683e+01 2.86104934e-01]\n",
      " [9.92523451e+01 2.97699842e-01]\n",
      " [9.86275127e+01 1.30377093e-01]\n",
      " [9.75966878e+01 8.72818981e-02]\n",
      " [9.59819133e+01 7.06359240e+04]\n",
      " [9.35800696e+01 8.36897879e-02]\n",
      " [9.01878520e+01 8.06560867e-02]\n",
      " [8.56387161e+01 6.52554905e+04]\n",
      " [7.98460228e+01 1.32301596e+04]]\n",
      "\n",
      "[[9.98285343e+01 2.55089088e+01]\n",
      " [9.91499155e+01 9.10852944e+00]\n",
      " [9.67623704e+01 3.06685977e+00]\n",
      " [9.04436706e+01 7.55763666e-01]\n",
      " [7.78621191e+01 1.48060547e-01]\n",
      " [5.90113187e+01 3.31730899e-02]\n",
      " [3.77568676e+01 5.13651998e-03]\n",
      " [1.97223253e+01 7.66234761e-04]\n",
      " [8.20687425e+00 8.95941921e+01]\n",
      " [2.67416003e+00 8.14311356e+01]]\n"
     ]
    }
   ],
   "source": [
    "e_ratio= (esigs/etotal) *100\n",
    "p_ratio= (psigs/ptotal) * 100\n",
    "print(e_ratio)\n",
    "print()\n",
    "print(p_ratio)"
   ]
  },
  {
   "cell_type": "code",
   "execution_count": 32,
   "metadata": {},
   "outputs": [
    {
     "data": {
      "text/plain": [
       "<matplotlib.legend.Legend at 0x1795b95d908>"
      ]
     },
     "execution_count": 32,
     "metadata": {},
     "output_type": "execute_result"
    },
    {
     "data": {
      "image/png": "[encoded data removed]",
      "text/plain": [
       "<Figure size 432x288 with 1 Axes>"
      ]
     },
     "metadata": {
      "needs_background": "light"
     },
     "output_type": "display_data"
    }
   ],
   "source": [
    "fig = plt.figure()\n",
    "axes = fig.add_axes([0.2,0.2,1.8,1.8])\n",
    "axes.set_xlabel('energy cutoff')\n",
    "axes.set_ylabel('The ratio')\n",
    "axes.plot(spaced,e_ratio[:,0],'b', label = 'electron')\n",
    "axes.plot(spaced,p_ratio[:,0],'r', label = 'pion')\n",
    "axes.legend()"
   ]
  },
  {
   "cell_type": "code",
   "execution_count": 33,
   "metadata": {},
   "outputs": [
    {
     "name": "stdout",
     "output_type": "stream",
     "text": [
      "electron is at [9.01878520e+01 8.06560867e-02] this is 90.19%\n",
      "pion is at  [1.97223253e+01 7.66234761e-04] this is 19.72%\n"
     ]
    }
   ],
   "source": [
    "#i see energy at 0.7, which is 7th term when electron is 90%\n",
    "e90= e_ratio[7]\n",
    "p90= p_ratio[7]\n",
    "print(\"electron is at\",e90,\"this is 90.19%\")\n",
    "print(\"pion is at \",p90,\"this is 19.72%\")"
   ]
  },
  {
   "cell_type": "code",
   "execution_count": null,
   "metadata": {},
   "outputs": [],
   "source": []
  }
 ],
 "metadata": {
  "kernelspec": {
   "display_name": "Python 3",
   "language": "python",
   "name": "python3"
  },
  "language_info": {
   "codemirror_mode": {
    "name": "ipython",
    "version": 3
   },
   "file_extension": ".py",
   "mimetype": "text/x-python",
   "name": "python",
   "nbconvert_exporter": "python",
   "pygments_lexer": "ipython3",
   "version": "3.7.4"
  }
 },
 "nbformat": 4,
 "nbformat_minor": 2
}
