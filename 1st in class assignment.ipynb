{
 "cells": [
  {
   "cell_type": "code",
   "execution_count": null,
   "metadata": {},
   "outputs": [],
   "source": [
    "import matplotlib as mpl"
   ]
  },
  {
   "cell_type": "code",
   "execution_count": 5,
   "metadata": {},
   "outputs": [
    {
     "name": "stdout",
     "output_type": "stream",
     "text": [
      "What I am going to tell you about is what we teach our physics students in the third or fourth year of graduate school... It is my task to convince you not to turn away because you don't understand it. You see my physics students don't understand it... That is because I don't understand it. Nobody does.\n",
      "3\n",
      "1\n",
      "4 total use of you\n"
     ]
    }
   ],
   "source": [
    "text = \"What I am going to tell you about is what we teach our physics students in the third or fourth year of graduate school... It is my task to convince you not to turn away because you don't understand it. You see my physics students don't understand it... That is because I don't understand it. Nobody does.\"\n",
    "print(text)\n",
    "word = \"you\"\n",
    "words = \"You\"\n",
    "wordgap = text.split()\n",
    "wordcount = 0\n",
    "wordcounts = 0\n",
    "for y in wordgap:\n",
    "    if y == word:\n",
    "        wordcount += 1\n",
    "print(wordcount)\n",
    "for x in wordgap:\n",
    "    if x == words:\n",
    "        wordcounts += 1\n",
    "print(wordcounts)\n",
    "wordtotal= wordcounts + wordcount\n",
    "print(wordtotal,\"total use of you\")"
   ]
  },
  {
   "cell_type": "code",
   "execution_count": 3,
   "metadata": {},
   "outputs": [
    {
     "name": "stdout",
     "output_type": "stream",
     "text": [
      "What is your speed in mph? 90\n",
      "is it your birthday? Say 1 if true or 2 if false  2\n",
      "90 2\n",
      "big ticket\n"
     ]
    }
   ],
   "source": [
    "speed = input(\"What is your speed in mph? \")\n",
    "birth = input (\"is it your birthday? Say 1 if true or 2 if false  \")\n",
    "\n",
    "speed = 90\n",
    "birth = 2\n",
    "\n",
    "\n",
    "def pulled_over(speed,birth):\n",
    "    print(speed,birth)\n",
    "    if birth == 2:\n",
    "        if speed <= 60:\n",
    "            print(\"no ticket\")\n",
    "        elif speed >= 61 and speed <= 80:\n",
    "            print(\"small ticket\")\n",
    "        else:\n",
    "            print(\"big ticket\")\n",
    "    else:\n",
    "        if speed <= 65:\n",
    "            print(\"no ticket\")\n",
    "        elif speed >= 66 and speed <= 85:\n",
    "            print(\"small ticket\")\n",
    "        else:\n",
    "            print(\"big ticket\")\n",
    "\n",
    "pulled_over(speed,birth)\n",
    "##print( pulled_over )\"\"\"\""
   ]
  },
  {
   "cell_type": "code",
   "execution_count": null,
   "metadata": {},
   "outputs": [],
   "source": [
    "\"\"\"\"step 1 user imputs a number\n",
    "    step 2 ask if its birthday if yes then use boolean to say statment is true\n",
    "    if true subtract 5 from user imput\n",
    "    step 3 the computer catagorizes that number among 3 choices\n",
    "    step 4 print name of category\n",
    "\n",
    "print(\"How fast do you think you were driving?\")\n",
    "print( 1\"1. Yes its my birthday\")\n",
    "print( 2\"2. No it is not my birthday\")\n",
    "ans = True\n",
    "a = [0,60]\n",
    "b = [61,80]\n",
    "c = [81,670616629]\n",
    "s= user_input \n",
    "b = input (\" option 1 or option 2\")\n",
    "while ans:\n",
    "    question = input(\"Is it your birthday\")\n",
    "    if question == \"\":\n",
    "        break\n",
    "    elif answer ==1:\n",
    "        s = s-5\n",
    "        print(\"looks like its your lucky day\")\n",
    "    elif answer ==2:\n",
    "        s = s\n",
    "        print(\"well to bad then\")\n",
    "while ans:\n",
    "    question = input(\"How fast you think you were driving? \")\n",
    "\n",
    "    if question == \"\":\n",
    "        break\n",
    "    elif answers ==[81,670616629]:\n",
    "        print (\"you are getting a big ticket\")\n",
    "    elif answers ==[61,80]:\n",
    "        print (\"you are getting a small ticket\")\n",
    "    elif answers ==[0,60]:\n",
    "        print (\"you are not getting a ticket\")"
   ]
  }
 ],
 "metadata": {
  "kernelspec": {
   "display_name": "Python 3",
   "language": "python",
   "name": "python3"
  },
  "language_info": {
   "codemirror_mode": {
    "name": "ipython",
    "version": 3
   },
   "file_extension": ".py",
   "mimetype": "text/x-python",
   "name": "python",
   "nbconvert_exporter": "python",
   "pygments_lexer": "ipython3",
   "version": "3.7.4"
  }
 },
 "nbformat": 4,
 "nbformat_minor": 2
}
